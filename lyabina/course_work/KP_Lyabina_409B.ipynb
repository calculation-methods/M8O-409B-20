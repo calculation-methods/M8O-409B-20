{
 "cells": [
  {
   "cell_type": "code",
   "execution_count": 24,
   "id": "f3460e53",
   "metadata": {},
   "outputs": [
    {
     "name": "stdout",
     "output_type": "stream",
     "text": [
      "Eigenvalues with np.linalg: [-36.43358841 -23.8159298  -20.86783803 -19.43997483 -12.85885758\n",
      " -11.26948042  -8.60384659  -8.28852457  -5.14712395  -3.89776607\n",
      "  -0.65693952   0.           0.           0.           0.\n",
      "   3.68478741   5.21558779   6.2637151    9.07539524  11.2082299\n",
      "  14.21774913  20.0394933   20.96062156  24.11435484  40.4999355 ]\n",
      "Eigenvalues with lanczos_method: [-36.42214592 -17.64780484  -0.67974176  10.90581846  21.18220985\n",
      "  40.49910203]\n"
     ]
    },
    {
     "data": {
      "image/png": "[encoded data removed]",
      "text/plain": [
       "<Figure size 432x288 with 1 Axes>"
      ]
     },
     "metadata": {
      "needs_background": "light"
     },
     "output_type": "display_data"
    }
   ],
   "source": [
    "import numpy as np\n",
    "import matplotlib.pyplot as plt\n",
    "\n",
    "def gen_matrix():\n",
    "    A = np.zeros((25, 25))\n",
    "    n = np.random.randint(20, size=40)\n",
    "    for k in range(len(n)):\n",
    "            i = np.random.randint(25)\n",
    "            j = np.random.randint(25)\n",
    "            A[i][j] = n[k]\n",
    "            A[j][i] = n[k]\n",
    "    return A\n",
    "\n",
    "def max_matrix_elem(A):\n",
    "    i_max, j_max, max_elem = 0, 0, 0\n",
    "    for i in range(A[0].size):\n",
    "        for j in range(i+1, A[0].size):\n",
    "            if (abs(A[i][j])>max_elem):\n",
    "                max_elem = abs(A[i][j])\n",
    "                i_max = i\n",
    "                j_max = j\n",
    "    return i_max, j_max, max_elem\n",
    "\n",
    "def rotation_method(A, eps):\n",
    "    Ak = np.copy(A)\n",
    "    eigen_vectors =  np.eye(A[0].size)\n",
    "    i_max, j_max, max_elem = max_matrix_elem(Ak)\n",
    "    count = 0\n",
    "    while (max_elem>eps):\n",
    "        phi = 0.5*np.arctan(2*Ak[i_max][j_max]/(Ak[i_max][i_max]-Ak[j_max][j_max]))\n",
    "        U = np.eye(Ak.shape[0])\n",
    "        U[i_max][j_max] = -np.sin(phi)\n",
    "        U[j_max][i_max] = np.sin(phi)\n",
    "        U[i_max][i_max] = np.cos(phi)\n",
    "        U[j_max][j_max] = np.cos(phi)\n",
    "        Ak = U.T @ Ak @ U\n",
    "        eigen_vectors = eigen_vectors @ U\n",
    "        count += 1\n",
    "        i_max, j_max, max_elem = max_matrix_elem(Ak)\n",
    "    eigen_values = np.array([Ak[i][i] for i in range(A[0].size)])\n",
    "    return eigen_vectors, eigen_values, count\n",
    "\n",
    "def lanczos_method(A, b, iters, EPSILON):\n",
    "    Q = np.zeros((A.shape[0], iters + 1))\n",
    "    alpha = np.zeros((iters))\n",
    "    beta = np.zeros((iters))\n",
    "    Q[:,0] = b/np.linalg.norm(b)\n",
    "    for m in range(iters):\n",
    "        if np.linalg.norm(b) <= EPSILON:\n",
    "            break\n",
    "        v = np.dot(A, Q[:,m])\n",
    "        alpha[m] = np.dot(Q[:,m],v)\n",
    "        if m == 0:\n",
    "            v = v - alpha[m]*Q[:,m]\n",
    "        else:\n",
    "            v = v - alpha[m]*Q[:,m] - beta[m-1]*Q[:,m-1]\n",
    "        beta[m] = np.linalg.norm(v)\n",
    "        Q[:,m+1] = v/beta[m]\n",
    "\n",
    "    T = np.dot(np.dot(Q.T,A), Q)\n",
    "    Vec_T, Val, _ = rotation_method(T, 1e-16)\n",
    "    Vec = Q@Vec_T\n",
    "    return Vec, Val\n",
    "\n",
    "A = gen_matrix()\n",
    "\n",
    "np.set_printoptions(suppress=True)\n",
    "EPSILON = 0.00000000000000001\n",
    "\n",
    "b = np.random.rand(A.shape[0])\n",
    "\n",
    "iters = 5\n",
    "Vec, Val = lanczos_method(A, b, iters, EPSILON)\n",
    "linalg_eigenvalues = np.sort(np.real(np.linalg.eigvals(A)))\n",
    "kp_eigenvalues = np.sort(Val)\n",
    "print(\"Eigenvalues with np.linalg:\", linalg_eigenvalues)\n",
    "print(\"Eigenvalues with lanczos_method:\", kp_eigenvalues)\n",
    "\n",
    "# Отображение на графике\n",
    "plt.plot(linalg_eigenvalues, 'o-', label='np.linalg')\n",
    "plt.plot(kp_eigenvalues, 's-', label='lanczos_method')\n",
    "plt.title(\"Eigenvalues Comparison\")\n",
    "plt.xlabel(\"Index\")\n",
    "plt.ylabel(\"Value\")\n",
    "plt.legend()\n",
    "plt.show()"
   ]
  }
 ],
 "metadata": {
  "kernelspec": {
   "display_name": "Python 3 (ipykernel)",
   "language": "python",
   "name": "python3"
  },
  "language_info": {
   "codemirror_mode": {
    "name": "ipython",
    "version": 3
   },
   "file_extension": ".py",
   "mimetype": "text/x-python",
   "name": "python",
   "nbconvert_exporter": "python",
   "pygments_lexer": "ipython3",
   "version": "3.9.7"
  }
 },
 "nbformat": 4,
 "nbformat_minor": 5
}
